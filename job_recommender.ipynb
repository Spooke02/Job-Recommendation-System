{
  "metadata": {
    "kaggle": {
      "accelerator": "nvidiaTeslaT4",
      "dataSources": [
        {
          "sourceId": 8865009,
          "sourceType": "datasetVersion",
          "datasetId": 5335714
        }
      ],
      "dockerImageVersionId": 30733,
      "isInternetEnabled": true,
      "language": "python",
      "sourceType": "notebook",
      "isGpuEnabled": true
    },
    "kernelspec": {
      "display_name": "Python 3",
      "name": "python3"
    },
    "language_info": {
      "codemirror_mode": {
        "name": "ipython",
        "version": 3
      },
      "file_extension": ".py",
      "mimetype": "text/x-python",
      "name": "python",
      "nbconvert_exporter": "python",
      "pygments_lexer": "ipython3",
      "version": "3.10.13"
    },
    "papermill": {
      "default_parameters": {},
      "duration": 9.443353,
      "end_time": "2024-07-04T05:59:53.88699",
      "environment_variables": {},
      "exception": null,
      "input_path": "__notebook__.ipynb",
      "output_path": "__notebook__.ipynb",
      "parameters": {},
      "start_time": "2024-07-04T05:59:44.443637",
      "version": "2.5.0"
    },
    "colab": {
      "name": "job recommender",
      "provenance": [],
      "gpuType": "V28"
    },
    "accelerator": "TPU"
  },
  "nbformat_minor": 5,
  "nbformat": 4,
  "cells": [
    {
      "source": [
        "\n",
        "# IMPORTANT: RUN THIS CELL IN ORDER TO IMPORT YOUR KAGGLE DATA SOURCES\n",
        "# TO THE CORRECT LOCATION (/kaggle/input) IN YOUR NOTEBOOK,\n",
        "# THEN FEEL FREE TO DELETE THIS CELL.\n",
        "# NOTE: THIS NOTEBOOK ENVIRONMENT DIFFERS FROM KAGGLE'S PYTHON\n",
        "# ENVIRONMENT SO THERE MAY BE MISSING LIBRARIES USED BY YOUR\n",
        "# NOTEBOOK.\n",
        "\n",
        "import os\n",
        "import sys\n",
        "from tempfile import NamedTemporaryFile\n",
        "from urllib.request import urlopen\n",
        "from urllib.parse import unquote, urlparse\n",
        "from urllib.error import HTTPError\n",
        "from zipfile import ZipFile\n",
        "import tarfile\n",
        "import shutil\n",
        "\n",
        "CHUNK_SIZE = 40960\n",
        "DATA_SOURCE_MAPPING = 'jobdataset:https%3A%2F%2Fstorage.googleapis.com%2Fkaggle-data-sets%2F5335714%2F8865009%2Fbundle%2Farchive.zip%3FX-Goog-Algorithm%3DGOOG4-RSA-SHA256%26X-Goog-Credential%3Dgcp-kaggle-com%2540kaggle-161607.iam.gserviceaccount.com%252F20240705%252Fauto%252Fstorage%252Fgoog4_request%26X-Goog-Date%3D20240705T062804Z%26X-Goog-Expires%3D259200%26X-Goog-SignedHeaders%3Dhost%26X-Goog-Signature%3Da113cda021407fb8a753d93d1529e62c5c756e607e411cf2c1fa14022abd9795fb211dcf373919ac7ac2d973eca05e9383d105ec28e71031f3a567f5a668631ce88f86f03d4a6b8958aa49092703fc00249c62957c66ff8fd00bdfcc41d6450983951e852c4c5595595b086a9d6a9663bfc88051cf90e0483d086608ec9ff9a365644155385ce90232cdc152a7c90484d99a095ceaa002f0888d7e0b0c4cd9696f2a63c75cd50547cb8066b0eb1961ac899e0c6c98fee635ed3972b0680e9f0d4e62aa691a7546cce849150ec3c951e5b41dd005369155118ed4617a2f1d68ce6a065657b79daa3ad20bf11ccef043f01463a1f7062a5c801242f517cd6780a0'\n",
        "\n",
        "KAGGLE_INPUT_PATH='/kaggle/input'\n",
        "KAGGLE_WORKING_PATH='/kaggle/working'\n",
        "KAGGLE_SYMLINK='kaggle'\n",
        "\n",
        "!umount /kaggle/input/ 2> /dev/null\n",
        "shutil.rmtree('/kaggle/input', ignore_errors=True)\n",
        "os.makedirs(KAGGLE_INPUT_PATH, 0o777, exist_ok=True)\n",
        "os.makedirs(KAGGLE_WORKING_PATH, 0o777, exist_ok=True)\n",
        "\n",
        "try:\n",
        "  os.symlink(KAGGLE_INPUT_PATH, os.path.join(\"..\", 'input'), target_is_directory=True)\n",
        "except FileExistsError:\n",
        "  pass\n",
        "try:\n",
        "  os.symlink(KAGGLE_WORKING_PATH, os.path.join(\"..\", 'working'), target_is_directory=True)\n",
        "except FileExistsError:\n",
        "  pass\n",
        "\n",
        "for data_source_mapping in DATA_SOURCE_MAPPING.split(','):\n",
        "    directory, download_url_encoded = data_source_mapping.split(':')\n",
        "    download_url = unquote(download_url_encoded)\n",
        "    filename = urlparse(download_url).path\n",
        "    destination_path = os.path.join(KAGGLE_INPUT_PATH, directory)\n",
        "    try:\n",
        "        with urlopen(download_url) as fileres, NamedTemporaryFile() as tfile:\n",
        "            total_length = fileres.headers['content-length']\n",
        "            print(f'Downloading {directory}, {total_length} bytes compressed')\n",
        "            dl = 0\n",
        "            data = fileres.read(CHUNK_SIZE)\n",
        "            while len(data) > 0:\n",
        "                dl += len(data)\n",
        "                tfile.write(data)\n",
        "                done = int(50 * dl / int(total_length))\n",
        "                sys.stdout.write(f\"\\r[{'=' * done}{' ' * (50-done)}] {dl} bytes downloaded\")\n",
        "                sys.stdout.flush()\n",
        "                data = fileres.read(CHUNK_SIZE)\n",
        "            if filename.endswith('.zip'):\n",
        "              with ZipFile(tfile) as zfile:\n",
        "                zfile.extractall(destination_path)\n",
        "            else:\n",
        "              with tarfile.open(tfile.name) as tarfile:\n",
        "                tarfile.extractall(destination_path)\n",
        "            print(f'\\nDownloaded and uncompressed: {directory}')\n",
        "    except HTTPError as e:\n",
        "        print(f'Failed to load (likely expired) {download_url} to path {destination_path}')\n",
        "        continue\n",
        "    except OSError as e:\n",
        "        print(f'Failed to load {download_url} to path {destination_path}')\n",
        "        continue\n",
        "\n",
        "print('Data source import complete.')\n"
      ],
      "metadata": {
        "colab": {
          "base_uri": "https://localhost:8080/"
        },
        "id": "MtIeCm6xu3nP",
        "outputId": "431e0eb1-98cb-4187-ec0d-6899d7eaf339"
      },
      "cell_type": "code",
      "outputs": [
        {
          "output_type": "stream",
          "name": "stdout",
          "text": [
            "Downloading jobdataset, 35213172 bytes compressed\n",
            "[==================================================] 35213172 bytes downloaded\n",
            "Downloaded and uncompressed: jobdataset\n",
            "Data source import complete.\n"
          ]
        }
      ],
      "execution_count": 1,
      "id": "MtIeCm6xu3nP"
    },
    {
      "cell_type": "code",
      "source": [
        "# This Python 3 environment comes with many helpful analytics libraries installed\n",
        "# It is defined by the kaggle/python Docker image: https://github.com/kaggle/docker-python\n",
        "# For example, here's several helpful packages to load\n",
        "\n",
        "import numpy as np # linear algebra\n",
        "import pandas as pd # data processing, CSV file I/O (e.g. pd.read_csv)\n",
        "\n",
        "# Input data files are available in the read-only \"../input/\" directory\n",
        "# For example, running this (by clicking run or pressing Shift+Enter) will list all files under the input directory\n",
        "\n",
        "import os\n",
        "for dirname, _, filenames in os.walk('/kaggle/input'):\n",
        "    for filename in filenames:\n",
        "        print(os.path.join(dirname, filename))\n",
        "\n",
        "# You can write up to 20GB to the current directory (/kaggle/working/) that gets preserved as output when you create a version using \"Save & Run All\"\n",
        "# You can also write temporary files to /kaggle/temp/, but they won't be saved outside of the current session"
      ],
      "metadata": {
        "_cell_guid": "b1076dfc-b9ad-4769-8c92-a6c4dae69d19",
        "_uuid": "8f2839f25d086af736a60e9eeb907d3b93b6e0e5",
        "papermill": {
          "duration": 1.162456,
          "end_time": "2024-07-04T05:59:48.875535",
          "exception": false,
          "start_time": "2024-07-04T05:59:47.713079",
          "status": "completed"
        },
        "tags": [],
        "execution": {
          "iopub.status.busy": "2024-07-05T06:21:44.755194Z",
          "iopub.execute_input": "2024-07-05T06:21:44.755986Z",
          "iopub.status.idle": "2024-07-05T06:21:45.774665Z",
          "shell.execute_reply.started": "2024-07-05T06:21:44.755954Z",
          "shell.execute_reply": "2024-07-05T06:21:45.773541Z"
        },
        "trusted": true,
        "colab": {
          "base_uri": "https://localhost:8080/"
        },
        "id": "g_-37oW-u3nU",
        "outputId": "1d478e07-2b55-42d2-aa46-33bb8137a4b4"
      },
      "execution_count": 2,
      "outputs": [
        {
          "output_type": "stream",
          "name": "stdout",
          "text": [
            "/kaggle/input/jobdataset/Combined_Jobs_Final.csv\n"
          ]
        }
      ],
      "id": "g_-37oW-u3nU"
    },
    {
      "cell_type": "code",
      "source": [
        "import pandas as pd\n",
        "import numpy as np\n",
        "from sklearn.feature_extraction.text import TfidfVectorizer\n",
        "from sklearn.metrics.pairwise import linear_kernel"
      ],
      "metadata": {
        "papermill": {
          "duration": 1.681313,
          "end_time": "2024-07-04T05:59:50.563234",
          "exception": false,
          "start_time": "2024-07-04T05:59:48.881921",
          "status": "completed"
        },
        "tags": [],
        "execution": {
          "iopub.status.busy": "2024-07-05T06:21:45.77663Z",
          "iopub.execute_input": "2024-07-05T06:21:45.777111Z",
          "iopub.status.idle": "2024-07-05T06:21:46.864282Z",
          "shell.execute_reply.started": "2024-07-05T06:21:45.777078Z",
          "shell.execute_reply": "2024-07-05T06:21:46.863392Z"
        },
        "trusted": true,
        "id": "GjIRt0Oku3nV"
      },
      "execution_count": 3,
      "outputs": [],
      "id": "GjIRt0Oku3nV"
    },
    {
      "cell_type": "code",
      "source": [
        "df_jobs = pd.read_csv(\"/kaggle/input/jobdataset/Combined_Jobs_Final.csv\")"
      ],
      "metadata": {
        "papermill": {
          "duration": 1.243166,
          "end_time": "2024-07-04T05:59:51.812392",
          "exception": false,
          "start_time": "2024-07-04T05:59:50.569226",
          "status": "completed"
        },
        "tags": [],
        "execution": {
          "iopub.status.busy": "2024-07-05T06:21:46.865365Z",
          "iopub.execute_input": "2024-07-05T06:21:46.865651Z",
          "iopub.status.idle": "2024-07-05T06:21:50.249661Z",
          "shell.execute_reply.started": "2024-07-05T06:21:46.865627Z",
          "shell.execute_reply": "2024-07-05T06:21:50.248571Z"
        },
        "trusted": true,
        "id": "XoTTspXLu3nV"
      },
      "execution_count": 4,
      "outputs": [],
      "id": "XoTTspXLu3nV"
    },
    {
      "cell_type": "code",
      "source": [
        "df_jobs.head()"
      ],
      "metadata": {
        "papermill": {
          "duration": 0.050436,
          "end_time": "2024-07-04T05:59:51.869241",
          "exception": false,
          "start_time": "2024-07-04T05:59:51.818805",
          "status": "completed"
        },
        "tags": [],
        "execution": {
          "iopub.status.busy": "2024-07-05T06:22:56.728704Z",
          "iopub.execute_input": "2024-07-05T06:22:56.729439Z",
          "iopub.status.idle": "2024-07-05T06:22:56.759035Z",
          "shell.execute_reply.started": "2024-07-05T06:22:56.729408Z",
          "shell.execute_reply": "2024-07-05T06:22:56.758183Z"
        },
        "trusted": true,
        "colab": {
          "base_uri": "https://localhost:8080/",
          "height": 620
        },
        "id": "Dm-jm_zCu3nW",
        "outputId": "89444d9a-5520-437d-bdd0-6ffd4fe6199b"
      },
      "execution_count": 15,
      "outputs": [
        {
          "output_type": "execute_result",
          "data": {
            "text/plain": [
              "   Job.ID  Provider Status                                               Slug  \\\n",
              "0     111         1   open                    palo-alto-ca-tacolicious-server   \n",
              "1     113         1   open    san-francisco-ca-claude-lane-kitchen-staff-chef   \n",
              "2     117         1   open  san-francisco-ca-machka-restaurants-corp-barte...   \n",
              "3     121         1   open                  brisbane-ca-teriyaki-house-server   \n",
              "4     127         1   open  los-angeles-ca-rosa-mexicano-sunset-kitchen-st...   \n",
              "\n",
              "                                         Title            Position  \\\n",
              "0                         Server @ Tacolicious              Server   \n",
              "1             Kitchen Staff/Chef @ Claude Lane  Kitchen Staff/Chef   \n",
              "2         Bartender @ Machka Restaurants Corp.           Bartender   \n",
              "3                      Server @ Teriyaki House              Server   \n",
              "4  Kitchen Staff/Chef @ Rosa Mexicano - Sunset  Kitchen Staff/Chef   \n",
              "\n",
              "                    Company           City  State.Name State.Code  ...  \\\n",
              "0               Tacolicious      Palo Alto  California         CA  ...   \n",
              "1               Claude Lane  San Francisco  California         CA  ...   \n",
              "2  Machka Restaurants Corp.  San Francisco  California         CA  ...   \n",
              "3            Teriyaki House       Brisbane  California         CA  ...   \n",
              "4    Rosa Mexicano - Sunset    Los Angeles  California         CA  ...   \n",
              "\n",
              "             Industry                                    Job.Description  \\\n",
              "0  Food and Beverages  Tacolicious' first Palo Alto store just opened...   \n",
              "1  Food and Beverages   \\r\\n\\r\\nNew French Brasserie in S.F. Financia...   \n",
              "2  Food and Beverages  We are a popular Mediterranean wine bar and re...   \n",
              "3  Food and Beverages   ● Serve food/drinks to customers in a profess...   \n",
              "4  Food and Beverages  Located at the heart of Hollywood, we are one ...   \n",
              "\n",
              "   Requirements Salary Listing.Start  Listing.End  Employment.Type  \\\n",
              "0           NaN   8.00           NaN          NaN        Part-Time   \n",
              "1           NaN   0.00           NaN          NaN        Part-Time   \n",
              "2           NaN  11.00           NaN          NaN        Part-Time   \n",
              "3           NaN  10.55           NaN          NaN        Part-Time   \n",
              "4           NaN  10.55           NaN          NaN        Part-Time   \n",
              "\n",
              "  Education.Required               Created.At               Updated.At  \n",
              "0                NaN  2013-03-12 02:08:28 UTC  2014-08-16 15:35:36 UTC  \n",
              "1                NaN  2013-04-12 08:36:36 UTC  2014-08-16 15:35:36 UTC  \n",
              "2                NaN  2013-07-16 09:34:10 UTC  2014-08-16 15:35:37 UTC  \n",
              "3                NaN  2013-09-04 15:40:30 UTC  2014-08-16 15:35:38 UTC  \n",
              "4                NaN  2013-07-17 15:26:18 UTC  2014-08-16 15:35:40 UTC  \n",
              "\n",
              "[5 rows x 23 columns]"
            ],
            "text/html": [
              "\n",
              "  <div id=\"df-5002202a-8845-4a3f-9dc3-4df2317c1412\" class=\"colab-df-container\">\n",
              "    <div>\n",
              "<style scoped>\n",
              "    .dataframe tbody tr th:only-of-type {\n",
              "        vertical-align: middle;\n",
              "    }\n",
              "\n",
              "    .dataframe tbody tr th {\n",
              "        vertical-align: top;\n",
              "    }\n",
              "\n",
              "    .dataframe thead th {\n",
              "        text-align: right;\n",
              "    }\n",
              "</style>\n",
              "<table border=\"1\" class=\"dataframe\">\n",
              "  <thead>\n",
              "    <tr style=\"text-align: right;\">\n",
              "      <th></th>\n",
              "      <th>Job.ID</th>\n",
              "      <th>Provider</th>\n",
              "      <th>Status</th>\n",
              "      <th>Slug</th>\n",
              "      <th>Title</th>\n",
              "      <th>Position</th>\n",
              "      <th>Company</th>\n",
              "      <th>City</th>\n",
              "      <th>State.Name</th>\n",
              "      <th>State.Code</th>\n",
              "      <th>...</th>\n",
              "      <th>Industry</th>\n",
              "      <th>Job.Description</th>\n",
              "      <th>Requirements</th>\n",
              "      <th>Salary</th>\n",
              "      <th>Listing.Start</th>\n",
              "      <th>Listing.End</th>\n",
              "      <th>Employment.Type</th>\n",
              "      <th>Education.Required</th>\n",
              "      <th>Created.At</th>\n",
              "      <th>Updated.At</th>\n",
              "    </tr>\n",
              "  </thead>\n",
              "  <tbody>\n",
              "    <tr>\n",
              "      <th>0</th>\n",
              "      <td>111</td>\n",
              "      <td>1</td>\n",
              "      <td>open</td>\n",
              "      <td>palo-alto-ca-tacolicious-server</td>\n",
              "      <td>Server @ Tacolicious</td>\n",
              "      <td>Server</td>\n",
              "      <td>Tacolicious</td>\n",
              "      <td>Palo Alto</td>\n",
              "      <td>California</td>\n",
              "      <td>CA</td>\n",
              "      <td>...</td>\n",
              "      <td>Food and Beverages</td>\n",
              "      <td>Tacolicious' first Palo Alto store just opened...</td>\n",
              "      <td>NaN</td>\n",
              "      <td>8.00</td>\n",
              "      <td>NaN</td>\n",
              "      <td>NaN</td>\n",
              "      <td>Part-Time</td>\n",
              "      <td>NaN</td>\n",
              "      <td>2013-03-12 02:08:28 UTC</td>\n",
              "      <td>2014-08-16 15:35:36 UTC</td>\n",
              "    </tr>\n",
              "    <tr>\n",
              "      <th>1</th>\n",
              "      <td>113</td>\n",
              "      <td>1</td>\n",
              "      <td>open</td>\n",
              "      <td>san-francisco-ca-claude-lane-kitchen-staff-chef</td>\n",
              "      <td>Kitchen Staff/Chef @ Claude Lane</td>\n",
              "      <td>Kitchen Staff/Chef</td>\n",
              "      <td>Claude Lane</td>\n",
              "      <td>San Francisco</td>\n",
              "      <td>California</td>\n",
              "      <td>CA</td>\n",
              "      <td>...</td>\n",
              "      <td>Food and Beverages</td>\n",
              "      <td>\\r\\n\\r\\nNew French Brasserie in S.F. Financia...</td>\n",
              "      <td>NaN</td>\n",
              "      <td>0.00</td>\n",
              "      <td>NaN</td>\n",
              "      <td>NaN</td>\n",
              "      <td>Part-Time</td>\n",
              "      <td>NaN</td>\n",
              "      <td>2013-04-12 08:36:36 UTC</td>\n",
              "      <td>2014-08-16 15:35:36 UTC</td>\n",
              "    </tr>\n",
              "    <tr>\n",
              "      <th>2</th>\n",
              "      <td>117</td>\n",
              "      <td>1</td>\n",
              "      <td>open</td>\n",
              "      <td>san-francisco-ca-machka-restaurants-corp-barte...</td>\n",
              "      <td>Bartender @ Machka Restaurants Corp.</td>\n",
              "      <td>Bartender</td>\n",
              "      <td>Machka Restaurants Corp.</td>\n",
              "      <td>San Francisco</td>\n",
              "      <td>California</td>\n",
              "      <td>CA</td>\n",
              "      <td>...</td>\n",
              "      <td>Food and Beverages</td>\n",
              "      <td>We are a popular Mediterranean wine bar and re...</td>\n",
              "      <td>NaN</td>\n",
              "      <td>11.00</td>\n",
              "      <td>NaN</td>\n",
              "      <td>NaN</td>\n",
              "      <td>Part-Time</td>\n",
              "      <td>NaN</td>\n",
              "      <td>2013-07-16 09:34:10 UTC</td>\n",
              "      <td>2014-08-16 15:35:37 UTC</td>\n",
              "    </tr>\n",
              "    <tr>\n",
              "      <th>3</th>\n",
              "      <td>121</td>\n",
              "      <td>1</td>\n",
              "      <td>open</td>\n",
              "      <td>brisbane-ca-teriyaki-house-server</td>\n",
              "      <td>Server @ Teriyaki House</td>\n",
              "      <td>Server</td>\n",
              "      <td>Teriyaki House</td>\n",
              "      <td>Brisbane</td>\n",
              "      <td>California</td>\n",
              "      <td>CA</td>\n",
              "      <td>...</td>\n",
              "      <td>Food and Beverages</td>\n",
              "      <td>● Serve food/drinks to customers in a profess...</td>\n",
              "      <td>NaN</td>\n",
              "      <td>10.55</td>\n",
              "      <td>NaN</td>\n",
              "      <td>NaN</td>\n",
              "      <td>Part-Time</td>\n",
              "      <td>NaN</td>\n",
              "      <td>2013-09-04 15:40:30 UTC</td>\n",
              "      <td>2014-08-16 15:35:38 UTC</td>\n",
              "    </tr>\n",
              "    <tr>\n",
              "      <th>4</th>\n",
              "      <td>127</td>\n",
              "      <td>1</td>\n",
              "      <td>open</td>\n",
              "      <td>los-angeles-ca-rosa-mexicano-sunset-kitchen-st...</td>\n",
              "      <td>Kitchen Staff/Chef @ Rosa Mexicano - Sunset</td>\n",
              "      <td>Kitchen Staff/Chef</td>\n",
              "      <td>Rosa Mexicano - Sunset</td>\n",
              "      <td>Los Angeles</td>\n",
              "      <td>California</td>\n",
              "      <td>CA</td>\n",
              "      <td>...</td>\n",
              "      <td>Food and Beverages</td>\n",
              "      <td>Located at the heart of Hollywood, we are one ...</td>\n",
              "      <td>NaN</td>\n",
              "      <td>10.55</td>\n",
              "      <td>NaN</td>\n",
              "      <td>NaN</td>\n",
              "      <td>Part-Time</td>\n",
              "      <td>NaN</td>\n",
              "      <td>2013-07-17 15:26:18 UTC</td>\n",
              "      <td>2014-08-16 15:35:40 UTC</td>\n",
              "    </tr>\n",
              "  </tbody>\n",
              "</table>\n",
              "<p>5 rows × 23 columns</p>\n",
              "</div>\n",
              "    <div class=\"colab-df-buttons\">\n",
              "\n",
              "  <div class=\"colab-df-container\">\n",
              "    <button class=\"colab-df-convert\" onclick=\"convertToInteractive('df-5002202a-8845-4a3f-9dc3-4df2317c1412')\"\n",
              "            title=\"Convert this dataframe to an interactive table.\"\n",
              "            style=\"display:none;\">\n",
              "\n",
              "  <svg xmlns=\"http://www.w3.org/2000/svg\" height=\"24px\" viewBox=\"0 -960 960 960\">\n",
              "    <path d=\"M120-120v-720h720v720H120Zm60-500h600v-160H180v160Zm220 220h160v-160H400v160Zm0 220h160v-160H400v160ZM180-400h160v-160H180v160Zm440 0h160v-160H620v160ZM180-180h160v-160H180v160Zm440 0h160v-160H620v160Z\"/>\n",
              "  </svg>\n",
              "    </button>\n",
              "\n",
              "  <style>\n",
              "    .colab-df-container {\n",
              "      display:flex;\n",
              "      gap: 12px;\n",
              "    }\n",
              "\n",
              "    .colab-df-convert {\n",
              "      background-color: #E8F0FE;\n",
              "      border: none;\n",
              "      border-radius: 50%;\n",
              "      cursor: pointer;\n",
              "      display: none;\n",
              "      fill: #1967D2;\n",
              "      height: 32px;\n",
              "      padding: 0 0 0 0;\n",
              "      width: 32px;\n",
              "    }\n",
              "\n",
              "    .colab-df-convert:hover {\n",
              "      background-color: #E2EBFA;\n",
              "      box-shadow: 0px 1px 2px rgba(60, 64, 67, 0.3), 0px 1px 3px 1px rgba(60, 64, 67, 0.15);\n",
              "      fill: #174EA6;\n",
              "    }\n",
              "\n",
              "    .colab-df-buttons div {\n",
              "      margin-bottom: 4px;\n",
              "    }\n",
              "\n",
              "    [theme=dark] .colab-df-convert {\n",
              "      background-color: #3B4455;\n",
              "      fill: #D2E3FC;\n",
              "    }\n",
              "\n",
              "    [theme=dark] .colab-df-convert:hover {\n",
              "      background-color: #434B5C;\n",
              "      box-shadow: 0px 1px 3px 1px rgba(0, 0, 0, 0.15);\n",
              "      filter: drop-shadow(0px 1px 2px rgba(0, 0, 0, 0.3));\n",
              "      fill: #FFFFFF;\n",
              "    }\n",
              "  </style>\n",
              "\n",
              "    <script>\n",
              "      const buttonEl =\n",
              "        document.querySelector('#df-5002202a-8845-4a3f-9dc3-4df2317c1412 button.colab-df-convert');\n",
              "      buttonEl.style.display =\n",
              "        google.colab.kernel.accessAllowed ? 'block' : 'none';\n",
              "\n",
              "      async function convertToInteractive(key) {\n",
              "        const element = document.querySelector('#df-5002202a-8845-4a3f-9dc3-4df2317c1412');\n",
              "        const dataTable =\n",
              "          await google.colab.kernel.invokeFunction('convertToInteractive',\n",
              "                                                    [key], {});\n",
              "        if (!dataTable) return;\n",
              "\n",
              "        const docLinkHtml = 'Like what you see? Visit the ' +\n",
              "          '<a target=\"_blank\" href=https://colab.research.google.com/notebooks/data_table.ipynb>data table notebook</a>'\n",
              "          + ' to learn more about interactive tables.';\n",
              "        element.innerHTML = '';\n",
              "        dataTable['output_type'] = 'display_data';\n",
              "        await google.colab.output.renderOutput(dataTable, element);\n",
              "        const docLink = document.createElement('div');\n",
              "        docLink.innerHTML = docLinkHtml;\n",
              "        element.appendChild(docLink);\n",
              "      }\n",
              "    </script>\n",
              "  </div>\n",
              "\n",
              "\n",
              "<div id=\"df-30222909-cfc3-4ed7-891c-edb28eaf88a0\">\n",
              "  <button class=\"colab-df-quickchart\" onclick=\"quickchart('df-30222909-cfc3-4ed7-891c-edb28eaf88a0')\"\n",
              "            title=\"Suggest charts\"\n",
              "            style=\"display:none;\">\n",
              "\n",
              "<svg xmlns=\"http://www.w3.org/2000/svg\" height=\"24px\"viewBox=\"0 0 24 24\"\n",
              "     width=\"24px\">\n",
              "    <g>\n",
              "        <path d=\"M19 3H5c-1.1 0-2 .9-2 2v14c0 1.1.9 2 2 2h14c1.1 0 2-.9 2-2V5c0-1.1-.9-2-2-2zM9 17H7v-7h2v7zm4 0h-2V7h2v10zm4 0h-2v-4h2v4z\"/>\n",
              "    </g>\n",
              "</svg>\n",
              "  </button>\n",
              "\n",
              "<style>\n",
              "  .colab-df-quickchart {\n",
              "      --bg-color: #E8F0FE;\n",
              "      --fill-color: #1967D2;\n",
              "      --hover-bg-color: #E2EBFA;\n",
              "      --hover-fill-color: #174EA6;\n",
              "      --disabled-fill-color: #AAA;\n",
              "      --disabled-bg-color: #DDD;\n",
              "  }\n",
              "\n",
              "  [theme=dark] .colab-df-quickchart {\n",
              "      --bg-color: #3B4455;\n",
              "      --fill-color: #D2E3FC;\n",
              "      --hover-bg-color: #434B5C;\n",
              "      --hover-fill-color: #FFFFFF;\n",
              "      --disabled-bg-color: #3B4455;\n",
              "      --disabled-fill-color: #666;\n",
              "  }\n",
              "\n",
              "  .colab-df-quickchart {\n",
              "    background-color: var(--bg-color);\n",
              "    border: none;\n",
              "    border-radius: 50%;\n",
              "    cursor: pointer;\n",
              "    display: none;\n",
              "    fill: var(--fill-color);\n",
              "    height: 32px;\n",
              "    padding: 0;\n",
              "    width: 32px;\n",
              "  }\n",
              "\n",
              "  .colab-df-quickchart:hover {\n",
              "    background-color: var(--hover-bg-color);\n",
              "    box-shadow: 0 1px 2px rgba(60, 64, 67, 0.3), 0 1px 3px 1px rgba(60, 64, 67, 0.15);\n",
              "    fill: var(--button-hover-fill-color);\n",
              "  }\n",
              "\n",
              "  .colab-df-quickchart-complete:disabled,\n",
              "  .colab-df-quickchart-complete:disabled:hover {\n",
              "    background-color: var(--disabled-bg-color);\n",
              "    fill: var(--disabled-fill-color);\n",
              "    box-shadow: none;\n",
              "  }\n",
              "\n",
              "  .colab-df-spinner {\n",
              "    border: 2px solid var(--fill-color);\n",
              "    border-color: transparent;\n",
              "    border-bottom-color: var(--fill-color);\n",
              "    animation:\n",
              "      spin 1s steps(1) infinite;\n",
              "  }\n",
              "\n",
              "  @keyframes spin {\n",
              "    0% {\n",
              "      border-color: transparent;\n",
              "      border-bottom-color: var(--fill-color);\n",
              "      border-left-color: var(--fill-color);\n",
              "    }\n",
              "    20% {\n",
              "      border-color: transparent;\n",
              "      border-left-color: var(--fill-color);\n",
              "      border-top-color: var(--fill-color);\n",
              "    }\n",
              "    30% {\n",
              "      border-color: transparent;\n",
              "      border-left-color: var(--fill-color);\n",
              "      border-top-color: var(--fill-color);\n",
              "      border-right-color: var(--fill-color);\n",
              "    }\n",
              "    40% {\n",
              "      border-color: transparent;\n",
              "      border-right-color: var(--fill-color);\n",
              "      border-top-color: var(--fill-color);\n",
              "    }\n",
              "    60% {\n",
              "      border-color: transparent;\n",
              "      border-right-color: var(--fill-color);\n",
              "    }\n",
              "    80% {\n",
              "      border-color: transparent;\n",
              "      border-right-color: var(--fill-color);\n",
              "      border-bottom-color: var(--fill-color);\n",
              "    }\n",
              "    90% {\n",
              "      border-color: transparent;\n",
              "      border-bottom-color: var(--fill-color);\n",
              "    }\n",
              "  }\n",
              "</style>\n",
              "\n",
              "  <script>\n",
              "    async function quickchart(key) {\n",
              "      const quickchartButtonEl =\n",
              "        document.querySelector('#' + key + ' button');\n",
              "      quickchartButtonEl.disabled = true;  // To prevent multiple clicks.\n",
              "      quickchartButtonEl.classList.add('colab-df-spinner');\n",
              "      try {\n",
              "        const charts = await google.colab.kernel.invokeFunction(\n",
              "            'suggestCharts', [key], {});\n",
              "      } catch (error) {\n",
              "        console.error('Error during call to suggestCharts:', error);\n",
              "      }\n",
              "      quickchartButtonEl.classList.remove('colab-df-spinner');\n",
              "      quickchartButtonEl.classList.add('colab-df-quickchart-complete');\n",
              "    }\n",
              "    (() => {\n",
              "      let quickchartButtonEl =\n",
              "        document.querySelector('#df-30222909-cfc3-4ed7-891c-edb28eaf88a0 button');\n",
              "      quickchartButtonEl.style.display =\n",
              "        google.colab.kernel.accessAllowed ? 'block' : 'none';\n",
              "    })();\n",
              "  </script>\n",
              "</div>\n",
              "\n",
              "    </div>\n",
              "  </div>\n"
            ],
            "application/vnd.google.colaboratory.intrinsic+json": {
              "type": "dataframe",
              "variable_name": "df_jobs"
            }
          },
          "metadata": {},
          "execution_count": 15
        }
      ],
      "id": "Dm-jm_zCu3nW"
    },
    {
      "cell_type": "code",
      "source": [
        "df_jobs['Job.Description']"
      ],
      "metadata": {
        "papermill": {
          "duration": 0.019974,
          "end_time": "2024-07-04T05:59:51.926346",
          "exception": false,
          "start_time": "2024-07-04T05:59:51.906372",
          "status": "completed"
        },
        "tags": [],
        "trusted": true,
        "colab": {
          "base_uri": "https://localhost:8080/"
        },
        "id": "59Pemv52u3nW",
        "outputId": "b603242d-d2c9-4e62-eb9f-910b75bf6477"
      },
      "execution_count": 6,
      "outputs": [
        {
          "output_type": "execute_result",
          "data": {
            "text/plain": [
              "0        Tacolicious' first Palo Alto store just opened...\n",
              "1         \\r\\n\\r\\nNew French Brasserie in S.F. Financia...\n",
              "2        We are a popular Mediterranean wine bar and re...\n",
              "3         ● Serve food/drinks to customers in a profess...\n",
              "4        Located at the heart of Hollywood, we are one ...\n",
              "                               ...                        \n",
              "84085    NJAHS stands for National Japanese American Hi...\n",
              "84086    Weekend Brunch Line Cook \\r\\n● Other shifts ma...\n",
              "84087    ONIGILLY (Japanese rice ball wraps) seeks outg...\n",
              "84088    We are a popular Mediterranean restaurant in F...\n",
              "84089     We are looking for a cashier! \\r\\n\\r\\n ● Take...\n",
              "Name: Job.Description, Length: 84090, dtype: object"
            ]
          },
          "metadata": {},
          "execution_count": 6
        }
      ],
      "id": "59Pemv52u3nW"
    },
    {
      "cell_type": "code",
      "source": [
        "tfidf = TfidfVectorizer(stop_words=\"english\")\n",
        "df_jobs['Job.Description'] = df_jobs['Job.Description'].fillna(\"\")\n",
        "tfidf_matrix = tfidf.fit_transform(df_jobs['Job.Description'])"
      ],
      "metadata": {
        "papermill": {
          "duration": 0.493061,
          "end_time": "2024-07-04T05:59:52.426385",
          "exception": false,
          "start_time": "2024-07-04T05:59:51.933324",
          "status": "completed"
        },
        "tags": [],
        "execution": {
          "iopub.status.busy": "2024-07-05T06:26:07.063393Z",
          "iopub.execute_input": "2024-07-05T06:26:07.06407Z",
          "iopub.status.idle": "2024-07-05T06:26:25.772907Z",
          "shell.execute_reply.started": "2024-07-05T06:26:07.064037Z",
          "shell.execute_reply": "2024-07-05T06:26:25.772117Z"
        },
        "trusted": true,
        "id": "XB-ahxVtu3nX"
      },
      "execution_count": 7,
      "outputs": [],
      "id": "XB-ahxVtu3nX"
    },
    {
      "cell_type": "code",
      "source": [
        "cosine_sim = linear_kernel(tfidf_matrix, tfidf_matrix)"
      ],
      "metadata": {
        "papermill": {
          "duration": 0.510797,
          "end_time": "2024-07-04T05:59:52.945354",
          "exception": false,
          "start_time": "2024-07-04T05:59:52.434557",
          "status": "completed"
        },
        "tags": [],
        "execution": {
          "iopub.status.busy": "2024-07-05T06:27:23.526104Z",
          "iopub.execute_input": "2024-07-05T06:27:23.526455Z"
        },
        "trusted": true,
        "id": "_HOTTVp6u3nX"
      },
      "execution_count": 8,
      "outputs": [],
      "id": "_HOTTVp6u3nX"
    },
    {
      "cell_type": "code",
      "source": [
        "indices = pd.Series(df_jobs.index, index = df_jobs['Title']).drop_duplicates()\n",
        "indices"
      ],
      "metadata": {
        "papermill": {
          "duration": 0.03286,
          "end_time": "2024-07-04T05:59:52.985535",
          "exception": false,
          "start_time": "2024-07-04T05:59:52.952675",
          "status": "completed"
        },
        "tags": [],
        "execution": {
          "iopub.status.busy": "2024-07-05T06:23:15.807985Z",
          "iopub.execute_input": "2024-07-05T06:23:15.808652Z",
          "iopub.status.idle": "2024-07-05T06:23:15.886681Z",
          "shell.execute_reply.started": "2024-07-05T06:23:15.808617Z",
          "shell.execute_reply": "2024-07-05T06:23:15.885825Z"
        },
        "trusted": true,
        "colab": {
          "base_uri": "https://localhost:8080/"
        },
        "id": "h9fvzc2Wu3nY",
        "outputId": "1eef84a3-f865-4760-c625-bd39493815ab"
      },
      "execution_count": 16,
      "outputs": [
        {
          "output_type": "execute_result",
          "data": {
            "text/plain": [
              "Title\n",
              "Server @ Tacolicious                                               0\n",
              "Kitchen Staff/Chef @ Claude Lane                                   1\n",
              "Bartender @ Machka Restaurants Corp.                               2\n",
              "Server @ Teriyaki House                                            3\n",
              "Kitchen Staff/Chef @ Rosa Mexicano - Sunset                        4\n",
              "                                                               ...  \n",
              "Book Keeper @ National Japanese American Historical Society    84085\n",
              "Kitchen Staff/Chef @ Emporio Rulli                             84086\n",
              "Driver @ Onigilly                                              84087\n",
              "Line Cook @ Machka Restaurants Corp.                           84088\n",
              "Cashier @ Kazoo Restaurant                                     84089\n",
              "Length: 84090, dtype: int64"
            ]
          },
          "metadata": {},
          "execution_count": 16
        }
      ],
      "id": "h9fvzc2Wu3nY"
    },
    {
      "cell_type": "code",
      "source": [
        "indices['Server @ Teriyaki House']"
      ],
      "metadata": {
        "papermill": {
          "duration": 0.020106,
          "end_time": "2024-07-04T05:59:53.013276",
          "exception": false,
          "start_time": "2024-07-04T05:59:52.99317",
          "status": "completed"
        },
        "tags": [],
        "execution": {
          "iopub.status.busy": "2024-07-05T06:23:36.060492Z",
          "iopub.execute_input": "2024-07-05T06:23:36.06122Z",
          "iopub.status.idle": "2024-07-05T06:23:36.069638Z",
          "shell.execute_reply.started": "2024-07-05T06:23:36.061188Z",
          "shell.execute_reply": "2024-07-05T06:23:36.068699Z"
        },
        "trusted": true,
        "colab": {
          "base_uri": "https://localhost:8080/"
        },
        "id": "9S0xP-9Xu3nY",
        "outputId": "caf6323c-e8eb-4cea-a4b0-06c925770a5c"
      },
      "execution_count": 10,
      "outputs": [
        {
          "output_type": "execute_result",
          "data": {
            "text/plain": [
              "3"
            ]
          },
          "metadata": {},
          "execution_count": 10
        }
      ],
      "id": "9S0xP-9Xu3nY"
    },
    {
      "cell_type": "code",
      "source": [
        "def get_recommendation(title, cosine_sim = cosine_sim):\n",
        "    idx = indices[title]\n",
        "    sim_scores = enumerate(cosine_sim[idx])\n",
        "    sim_scores = sorted(sim_scores, key = lambda x: x[1], reverse = True)\n",
        "    sim_scores = sim_scores[1:11]\n",
        "    sim_index = [i[0] for i in sim_scores]\n",
        "    print(df_jobs[\"Title\"].iloc[sim_index])\n",
        "get_recommendation('Server @ Teriyaki House')"
      ],
      "metadata": {
        "papermill": {
          "duration": 0.02851,
          "end_time": "2024-07-04T05:59:53.04923",
          "exception": false,
          "start_time": "2024-07-04T05:59:53.02072",
          "status": "completed"
        },
        "tags": [],
        "execution": {
          "iopub.status.busy": "2024-07-05T06:23:59.621364Z",
          "iopub.execute_input": "2024-07-05T06:23:59.622201Z",
          "iopub.status.idle": "2024-07-05T06:23:59.730637Z",
          "shell.execute_reply.started": "2024-07-05T06:23:59.622161Z",
          "shell.execute_reply": "2024-07-05T06:23:59.729529Z"
        },
        "trusted": true,
        "colab": {
          "base_uri": "https://localhost:8080/"
        },
        "id": "10rM9kkyu3nY",
        "outputId": "817d4991-805d-412e-f1e6-309bd281e2a6"
      },
      "execution_count": 11,
      "outputs": [
        {
          "output_type": "stream",
          "name": "stdout",
          "text": [
            "84046                                  Server @ Ramen Club\n",
            "10781                                    Server @ Ca' Momi\n",
            "10782                                  Server @ A La Turca\n",
            "10783                      Server @ La Fontaine Restaurant\n",
            "13390    Server @ Angelicas Fine Dining Bar And Enterta...\n",
            "13391                    Server @ Colibri - Mexican Bistro\n",
            "13458                                     Server @ COCO5OO\n",
            "80806                     Server @ Thai Dishes on Broadway\n",
            "83984                               Server @ Faz Sunnyvale\n",
            "83989                                   Server @ L'Olivier\n",
            "Name: Title, dtype: object\n"
          ]
        }
      ],
      "id": "10rM9kkyu3nY"
    },
    {
      "cell_type": "code",
      "source": [
        "get_recommendation('Server @ Teriyaki House')"
      ],
      "metadata": {
        "papermill": {
          "duration": 0.024848,
          "end_time": "2024-07-04T05:59:53.081881",
          "exception": false,
          "start_time": "2024-07-04T05:59:53.057033",
          "status": "completed"
        },
        "tags": [],
        "trusted": true,
        "colab": {
          "base_uri": "https://localhost:8080/"
        },
        "id": "1q64Glqbu3nZ",
        "outputId": "ab1fac98-3d6d-42e7-b219-53249fde6e4a"
      },
      "execution_count": 13,
      "outputs": [
        {
          "output_type": "stream",
          "name": "stdout",
          "text": [
            "84046                                  Server @ Ramen Club\n",
            "10781                                    Server @ Ca' Momi\n",
            "10782                                  Server @ A La Turca\n",
            "10783                      Server @ La Fontaine Restaurant\n",
            "13390    Server @ Angelicas Fine Dining Bar And Enterta...\n",
            "13391                    Server @ Colibri - Mexican Bistro\n",
            "13458                                     Server @ COCO5OO\n",
            "80806                     Server @ Thai Dishes on Broadway\n",
            "83984                               Server @ Faz Sunnyvale\n",
            "83989                                   Server @ L'Olivier\n",
            "Name: Title, dtype: object\n"
          ]
        }
      ],
      "id": "1q64Glqbu3nZ"
    },
    {
      "cell_type": "code",
      "source": [
        "get_recommendation('Server @ COCO5OO')"
      ],
      "metadata": {
        "papermill": {
          "duration": 0.02372,
          "end_time": "2024-07-04T05:59:53.113357",
          "exception": false,
          "start_time": "2024-07-04T05:59:53.089637",
          "status": "completed"
        },
        "tags": [],
        "trusted": true,
        "colab": {
          "base_uri": "https://localhost:8080/"
        },
        "id": "h--M_ArUu3nZ",
        "outputId": "36ef0db2-23b8-4c0f-f5eb-6b4cd3a2cab8"
      },
      "execution_count": 14,
      "outputs": [
        {
          "output_type": "stream",
          "name": "stdout",
          "text": [
            "10782                                  Server @ A La Turca\n",
            "10783                      Server @ La Fontaine Restaurant\n",
            "13390    Server @ Angelicas Fine Dining Bar And Enterta...\n",
            "13391                    Server @ Colibri - Mexican Bistro\n",
            "13458                                     Server @ COCO5OO\n",
            "80806                     Server @ Thai Dishes on Broadway\n",
            "83984                               Server @ Faz Sunnyvale\n",
            "83989                                   Server @ L'Olivier\n",
            "84007                                   Server @ 208 rodeo\n",
            "84014                      Server @ Water Grill - Downtown\n",
            "Name: Title, dtype: object\n"
          ]
        }
      ],
      "id": "h--M_ArUu3nZ"
    }
  ]
}